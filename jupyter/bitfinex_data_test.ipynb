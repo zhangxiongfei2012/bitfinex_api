{
 "cells": [
  {
   "cell_type": "code",
   "execution_count": 15,
   "metadata": {},
   "outputs": [],
   "source": [
    "import datetime\n",
    "import time\n",
    "import pandas as pd\n",
    "import bitfinex"
   ]
  },
  {
   "cell_type": "code",
   "execution_count": 30,
   "metadata": {},
   "outputs": [
    {
     "name": "stdout",
     "output_type": "stream",
     "text": [
      "No keys, only access to public API functions\n",
      "                       open   close    high     low      volume\n",
      "time                                                           \n",
      "2016-01-01 00:00:00  429.17  429.30  429.30  429.17   18.923786\n",
      "2016-01-01 00:05:00  429.76  430.99  431.41  429.76   88.953554\n",
      "2016-01-01 00:10:00  430.70  430.00  430.70  430.00   10.392250\n",
      "2016-01-01 00:15:00  430.00  430.58  430.60  430.00    8.672500\n",
      "2016-01-01 00:25:00  430.59  430.66  430.66  430.58    0.254464\n",
      "...                     ...     ...     ...     ...         ...\n",
      "2016-01-18 08:20:00  379.19  378.89  379.47  378.89   11.721683\n",
      "2016-01-18 08:25:00  378.80  378.93  378.93  378.80    5.453103\n",
      "2016-01-18 08:30:00  378.81  380.49  380.50  378.81   34.569534\n",
      "2016-01-18 08:35:00  380.50  380.50  380.50  380.13   17.413633\n",
      "2016-01-18 08:40:00  380.50  380.93  381.90  380.50  142.411323\n",
      "\n",
      "[4942 rows x 5 columns]\n"
     ]
    }
   ],
   "source": [
    "# t_start = datetime.datetime(2016, 1, 1, 0, 0,0)\n",
    "# print(t_start)\n",
    "# t_start = time.mktime(t_start.timetuple()) * 1000\n",
    "# print(t_start)\n",
    "import sys\n",
    "sys.path.insert(0, '../')\n",
    "# pd.to_datetime(t_start, unit='ms')\n",
    "\n",
    "# epoch = datetime.datetime.utcfromtimestamp(0)\n",
    "api_v2 = bitfinex.bitfinex_v2.api_v2()\n",
    "\n",
    "data = []\n",
    "def unix_time_millis(dt):\n",
    "    return (dt - epoch).total_seconds() * 1000.0\n",
    "\n",
    "\n",
    "def fetch_data(start=1364767200000, stop=1545346740000, symbol='btcusd', interval='1m', tick_limit=1000, step=60000000):\n",
    "    # Create api instance\n",
    "    api_v2 = bitfinex.bitfinex_v2.api_v2()\n",
    "\n",
    "    data = []\n",
    "    start = start - step\n",
    "    while start < stop:\n",
    "\n",
    "        start = start + step\n",
    "        end = start + step\n",
    "        res = api_v2.candles(symbol=symbol, interval=interval, limit=tick_limit, start=start, end=end)\n",
    "        data.extend(res)\n",
    "        print('Retrieving data from {} to {} for {}'.format(pd.to_datetime(start, unit='ms'),\n",
    "                                                            pd.to_datetime(end, unit='ms'), symbol))\n",
    "        time.sleep(1.5)\n",
    "    return data\n",
    "\n",
    "\n",
    "limit=5000\n",
    "start=unix_time_millis( datetime.datetime(2016, 1, 1, 0, 0,0))\n",
    "end=start+1000*5*60*limit\n",
    "\n",
    "res = api_v2.candles(symbol='btcusd', interval='5m', limit=limit, start=start, end=end)\n",
    "# print(res)\n",
    "names = ['time', 'open', 'close', 'high', 'low', 'volume']\n",
    "df = pd.DataFrame(res, columns=names)\n",
    "df.drop_duplicates(inplace=True)\n",
    "df['time'] = pd.to_datetime(df['time'], unit='ms')\n",
    "df.set_index('time', inplace=True)\n",
    "df.sort_index(inplace=True)\n",
    "print(df)"
   ]
  },
  {
   "cell_type": "code",
   "execution_count": null,
   "metadata": {},
   "outputs": [],
   "source": []
  }
 ],
 "metadata": {
  "kernelspec": {
   "display_name": "Python 3",
   "language": "python",
   "name": "python3"
  },
  "language_info": {
   "codemirror_mode": {
    "name": "ipython",
    "version": 3
   },
   "file_extension": ".py",
   "mimetype": "text/x-python",
   "name": "python",
   "nbconvert_exporter": "python",
   "pygments_lexer": "ipython3",
   "version": "3.7.3"
  }
 },
 "nbformat": 4,
 "nbformat_minor": 2
}
