{
 "cells": [
  {
   "cell_type": "code",
   "execution_count": 1,
   "metadata": {},
   "outputs": [
    {
     "ename": "ModuleNotFoundError",
     "evalue": "No module named 'utils'",
     "output_type": "error",
     "traceback": [
      "\u001b[0;31m---------------------------------------------------------------------------\u001b[0m",
      "\u001b[0;31mModuleNotFoundError\u001b[0m                       Traceback (most recent call last)",
      "\u001b[0;32m<ipython-input-1-82c3b9bfc900>\u001b[0m in \u001b[0;36m<module>\u001b[0;34m\u001b[0m\n\u001b[1;32m      8\u001b[0m \u001b[0;32mimport\u001b[0m \u001b[0mos\u001b[0m\u001b[0;34m\u001b[0m\u001b[0;34m\u001b[0m\u001b[0m\n\u001b[1;32m      9\u001b[0m \u001b[0;32mimport\u001b[0m \u001b[0mconfigparser\u001b[0m\u001b[0;34m\u001b[0m\u001b[0;34m\u001b[0m\u001b[0m\n\u001b[0;32m---> 10\u001b[0;31m \u001b[0;32mfrom\u001b[0m \u001b[0mutils\u001b[0m\u001b[0;34m.\u001b[0m\u001b[0mdbUtils\u001b[0m \u001b[0;32mimport\u001b[0m \u001b[0;34m*\u001b[0m\u001b[0;34m\u001b[0m\u001b[0;34m\u001b[0m\u001b[0m\n\u001b[0m\u001b[1;32m     11\u001b[0m \u001b[0;32mfrom\u001b[0m \u001b[0mutils\u001b[0m\u001b[0;34m.\u001b[0m\u001b[0mtimeUtils\u001b[0m \u001b[0;32mimport\u001b[0m \u001b[0;34m*\u001b[0m\u001b[0;34m\u001b[0m\u001b[0;34m\u001b[0m\u001b[0m\n\u001b[1;32m     12\u001b[0m \u001b[0;32mfrom\u001b[0m \u001b[0mokex\u001b[0m\u001b[0;34m.\u001b[0m\u001b[0mspot_api\u001b[0m \u001b[0;32mimport\u001b[0m \u001b[0mSpotAPI\u001b[0m\u001b[0;34m\u001b[0m\u001b[0;34m\u001b[0m\u001b[0m\n",
      "\u001b[0;31mModuleNotFoundError\u001b[0m: No module named 'utils'"
     ]
    }
   ],
   "source": [
    "import sys\n",
    "sys.path.insert(0, '../')\n",
    "from decimal import *\n",
    "from datetime import timezone\n",
    "import datetime\n",
    "import numpy as np\n",
    "import pymysql\n",
    "import os\n",
    "import configparser\n",
    "from utils.dbUtils import *\n",
    "from utils.timeUtils import *\n",
    "from okex.spot_api import SpotAPI\n",
    "\n",
    "INSTRUMENT_ID=\"BTC-USDT\"\n",
    "\n",
    "work_dir=os.path.abspath(os.path.dirname(os.path.dirname(\"__file__\")))\n",
    "CONF_FILE = os.path.join(work_dir,'config.ini')\n",
    "config = configparser.ConfigParser()\n",
    "config.read(CONF_FILE)\n",
    "\n",
    "# spot_api = SpotAPI(config['okex']['apikey'], config['okex']['secretkey'], config['okex']['passphrase'], False)\n",
    "# now = datetime.datetime.now()\n",
    "# start = local_to_utc0(now - timedelta(minutes=2))\n",
    "# end = local_to_utc0(now - timedelta(minutes=1))\n",
    "# logger.info(\"Kline data start is {}, end is {}\".format(start, end))\n",
    "# data = spot_api.get_kline(BTCUSDT_COLLECTION, start, end, 60)\n",
    "# print(data[0])\n",
    "# ticker=spot_api.get_specific_ticker(INSTRUMENT_ID)\n",
    "# print(ticker)\n",
    "# print(ticker[\"last\"])\n",
    "# def generate_order_id():\n",
    "#     now=datetime.datetime.now()\n",
    "#     return int(now.strftime(\"%Y%m%d%H%M%S%f\"))\n",
    "def submit_order(price,size,side):\n",
    "    order_id=generate_order_id()\n",
    "    order_sql= 'INSERT INTO orders (order_id,client_oid,price,size,notional,instrument_id,type,side,filled_size,filled_notional,order_type,state,price_avg ) ' \\\n",
    "             'VALUES ({},{},{},{},{},\\'{}\\', \\'{}\\',\\'{}\\',{},{},{},{},{})'.\\\n",
    "            format(order_id,order_id,price,size,0,INSTRUMENT_ID,\"limit\",side,0,0,\"0\",\"0\",0)\n",
    "    db_execute_sql(order_sql)\n",
    "        #更新账户信息\n",
    "    account_sql='UPDATE spot_account SET avaliable = avaliable-{},hold= hold+{} WHERE coin = \\'usdt\\''.format(price*size,price*size)\n",
    "    return db_execute_sql(account_sql)\n",
    "    \n",
    "# def get_pending_orders():\n",
    "#     orders_sql='select * from orders where state=1' \n",
    "#     print(db_execute_sql(orders_sql))\n",
    "    \n",
    "# def update_order_state(order_id,state):\n",
    "#         order_sql='UPDATE orders SET state={} WHERE order_id={}'.format(state,order_id)  \n",
    "#         db_execute_sql(order_sql)\n",
    "# get_pending_orders() \n",
    "# update_order_state(20190728142400274397,2)\n",
    "# result=submit_order(20,10,'buy')\n",
    "# print(result)\n",
    "\n",
    "# order_sql='select state from orders where order_id={}'.format(20190728165256042607)\n",
    "# result=db_execute_sql(order_sql)\n",
    "# print(type(result[0][0]))\n",
    "# robot_sql='INSERT INTO robots (order_id,state) VALUES ({},\\'{}\\' )'.format(\"20190728165256042607\",\"state\")\n",
    "# db_execute_sql(robot_sql)\n",
    "# result=db_execute_sql(\"select max(id) from robots\")\n",
    "# robot_sql='select * from orders  WHERE order_id= {}'.format(9999)\n",
    "robot_sql = 'select count(id) from robots  WHERE state= \\'idle\\' or state= \\'active\\''\n",
    "result=db_execute_sql(robot_sql)\n",
    "print(result)\n",
    "# print(result[0][0])\n",
    "# n=((1,2),(3,4))\n",
    "# type(n[1][1])"
   ]
  },
  {
   "cell_type": "code",
   "execution_count": null,
   "metadata": {},
   "outputs": [],
   "source": []
  },
  {
   "cell_type": "code",
   "execution_count": null,
   "metadata": {},
   "outputs": [],
   "source": []
  }
 ],
 "metadata": {
  "kernelspec": {
   "display_name": "Python 3",
   "language": "python",
   "name": "python3"
  },
  "language_info": {
   "codemirror_mode": {
    "name": "ipython",
    "version": 3
   },
   "file_extension": ".py",
   "mimetype": "text/x-python",
   "name": "python",
   "nbconvert_exporter": "python",
   "pygments_lexer": "ipython3",
   "version": "3.7.3"
  }
 },
 "nbformat": 4,
 "nbformat_minor": 2
}
