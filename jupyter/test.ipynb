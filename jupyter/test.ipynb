{
 "cells": [
  {
   "cell_type": "code",
   "execution_count": 2,
   "metadata": {},
   "outputs": [
    {
     "name": "stderr",
     "output_type": "stream",
     "text": [
      "Wed, 31 Jul 2019 16:47:18 dbUtils.py[line:24] (MainThread) DEBUG SQL语句执行成功select * from orders  WHERE order_id= 9999\n"
     ]
    },
    {
     "name": "stdout",
     "output_type": "stream",
     "text": [
      "(1, '9999', '9999', Decimal('13699.985'), Decimal('0.01400'), Decimal('0.000'), 'BTC-USDT', 'limit', 'buy', Decimal('0.000'), Decimal('0.000'), '0', '0', Decimal('0.000'), datetime.datetime(2019, 7, 31, 16, 38, 41), datetime.datetime(2019, 7, 31, 16, 38, 41))\n"
     ]
    }
   ],
   "source": [
    "import sys\n",
    "sys.path.insert(0, '../')\n",
    "from decimal import *\n",
    "from datetime import timezone\n",
    "import datetime\n",
    "import numpy as np\n",
    "import pymysql\n",
    "import os\n",
    "import configparser\n",
    "from utils.dbUtils import *\n",
    "from utils.timeUtils import *\n",
    "from okex.spot_api import SpotAPI\n",
    "\n",
    "INSTRUMENT_ID=\"BTC-USDT\"\n",
    "\n",
    "work_dir=os.path.abspath(os.path.dirname(os.path.dirname(\"__file__\")))\n",
    "CONF_FILE = os.path.join(work_dir,'config.ini')\n",
    "config = configparser.ConfigParser()\n",
    "config.read(CONF_FILE)\n",
    "\n",
    "# spot_api = SpotAPI(config['okex']['apikey'], config['okex']['secretkey'], config['okex']['passphrase'], False)\n",
    "# now = datetime.datetime.now()\n",
    "# start = local_to_utc0(now - timedelta(minutes=2))\n",
    "# end = local_to_utc0(now - timedelta(minutes=1))\n",
    "# logger.info(\"Kline data start is {}, end is {}\".format(start, end))\n",
    "# data = spot_api.get_kline(BTCUSDT_COLLECTION, start, end, 60)\n",
    "# print(data[0])\n",
    "# ticker=spot_api.get_specific_ticker(INSTRUMENT_ID)\n",
    "# print(ticker)\n",
    "# print(ticker[\"last\"])\n",
    "# def generate_order_id():\n",
    "#     now=datetime.datetime.now()\n",
    "#     return int(now.strftime(\"%Y%m%d%H%M%S%f\"))\n",
    "def submit_order(price,size,side):\n",
    "    order_id=generate_order_id()\n",
    "    order_sql= 'INSERT INTO orders (order_id,client_oid,price,size,notional,instrument_id,type,side,filled_size,filled_notional,order_type,state,price_avg ) ' \\\n",
    "             'VALUES ({},{},{},{},{},\\'{}\\', \\'{}\\',\\'{}\\',{},{},{},{},{})'.\\\n",
    "            format(order_id,order_id,price,size,0,INSTRUMENT_ID,\"limit\",side,0,0,\"0\",\"0\",0)\n",
    "    db_execute_sql(order_sql)\n",
    "        #更新账户信息\n",
    "    account_sql='UPDATE spot_account SET avaliable = avaliable-{},hold= hold+{} WHERE coin = \\'usdt\\''.format(price*size,price*size)\n",
    "    return db_execute_sql(account_sql)\n",
    "    \n",
    "# def get_pending_orders():\n",
    "#     orders_sql='select * from orders where state=1' \n",
    "#     print(db_execute_sql(orders_sql))\n",
    "    \n",
    "# def update_order_state(order_id,state):\n",
    "#         order_sql='UPDATE orders SET state={} WHERE order_id={}'.format(state,order_id)  \n",
    "#         db_execute_sql(order_sql)\n",
    "# get_pending_orders() \n",
    "# update_order_state(20190728142400274397,2)\n",
    "# result=submit_order(20,10,'buy')\n",
    "# print(result)\n",
    "\n",
    "# order_sql='select state from orders where order_id={}'.format(20190728165256042607)\n",
    "# result=db_execute_sql(order_sql)\n",
    "# print(type(result[0][0]))\n",
    "# robot_sql='INSERT INTO robots (order_id,state) VALUES ({},\\'{}\\' )'.format(\"20190728165256042607\",\"state\")\n",
    "# db_execute_sql(robot_sql)\n",
    "# result=db_execute_sql(\"select max(id) from robots\")\n",
    "robot_sql='select * from orders  WHERE order_id= {}'.format(9999)\n",
    "result=db_execute_sql(robot_sql)\n",
    "print(result[0])\n",
    "# print(result[0][0])\n",
    "# n=((1,2),(3,4))\n",
    "# type(n[1][1])"
   ]
  },
  {
   "cell_type": "code",
   "execution_count": null,
   "metadata": {},
   "outputs": [],
   "source": []
  },
  {
   "cell_type": "code",
   "execution_count": null,
   "metadata": {},
   "outputs": [],
   "source": []
  }
 ],
 "metadata": {
  "kernelspec": {
   "display_name": "Python 3",
   "language": "python",
   "name": "python3"
  },
  "language_info": {
   "codemirror_mode": {
    "name": "ipython",
    "version": 3
   },
   "file_extension": ".py",
   "mimetype": "text/x-python",
   "name": "python",
   "nbconvert_exporter": "python",
   "pygments_lexer": "ipython3",
   "version": "3.7.3"
  }
 },
 "nbformat": 4,
 "nbformat_minor": 2
}
