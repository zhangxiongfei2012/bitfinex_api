{
 "cells": [
  {
   "cell_type": "code",
   "execution_count": 9,
   "metadata": {},
   "outputs": [
    {
     "name": "stdout",
     "output_type": "stream",
     "text": [
      "dt_object1 = 2018-11-12 09:15:32\n",
      "d = 2016-01-03 03:00:00\n"
     ]
    }
   ],
   "source": [
    "from datetime import datetime\n",
    "dt_string = \"12-11-2018 09:15:32\"\n",
    "# Considering date is in dd/mm/yyyy format\n",
    "dt_object1 = datetime.strptime(dt_string, \"%d-%m-%Y %H:%M:%S\")\n",
    "print(\"dt_object1 =\", dt_object1)\n",
    "# Considering date is in mm/dd/yyyy format\n",
    "# dt_object2 = datetime.strptime(dt_string, \"%m/%d/%Y %H:%M:%S\")\n",
    "# print(\"dt_object2 =\", dt_object2)\n",
    "dt_string=\"2016-01-03 03:00:00\"\n",
    "d=datetime.strptime(dt_string, \"%Y-%m-%d %H:%M:%S\")\n",
    "print(\"d =\", d)"
   ]
  },
  {
   "cell_type": "code",
   "execution_count": null,
   "metadata": {},
   "outputs": [],
   "source": []
  }
 ],
 "metadata": {
  "kernelspec": {
   "display_name": "Python 3",
   "language": "python",
   "name": "python3"
  },
  "language_info": {
   "codemirror_mode": {
    "name": "ipython",
    "version": 3
   },
   "file_extension": ".py",
   "mimetype": "text/x-python",
   "name": "python",
   "nbconvert_exporter": "python",
   "pygments_lexer": "ipython3",
   "version": "3.7.3"
  }
 },
 "nbformat": 4,
 "nbformat_minor": 2
}
